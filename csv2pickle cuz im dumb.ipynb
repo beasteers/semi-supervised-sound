{
 "cells": [
  {
   "cell_type": "code",
   "execution_count": 1,
   "metadata": {},
   "outputs": [],
   "source": [
    "import pickle\n",
    "import pandas as pd\n",
    "import glob"
   ]
  },
  {
   "cell_type": "code",
   "execution_count": 2,
   "metadata": {},
   "outputs": [
    {
     "data": {
      "text/plain": [
       "['../Data/features/output_air_conditioner.csv',\n",
       " '../Data/features/output_car_horn.csv',\n",
       " '../Data/features/output_children_playing.csv',\n",
       " '../Data/features/output_dog_bark.csv',\n",
       " '../Data/features/output_drilling.csv',\n",
       " '../Data/features/output_engine_idling.csv',\n",
       " '../Data/features/output_gun_shot.csv',\n",
       " '../Data/features/output_jackhammer.csv',\n",
       " '../Data/features/output_siren.csv',\n",
       " '../Data/features/output_street_music.csv']"
      ]
     },
     "execution_count": 2,
     "metadata": {},
     "output_type": "execute_result"
    }
   ],
   "source": [
    "csvs = glob.glob('../Data/features/output_*.csv')\n",
    "csvs"
   ]
  },
  {
   "cell_type": "code",
   "execution_count": 3,
   "metadata": {},
   "outputs": [
    {
     "data": {
      "text/plain": [
       "10"
      ]
     },
     "execution_count": 3,
     "metadata": {},
     "output_type": "execute_result"
    }
   ],
   "source": [
    "dfs = [\n",
    "    pd.read_csv(f)\n",
    "    for f in csvs\n",
    "]\n",
    "len(dfs)"
   ]
  },
  {
   "cell_type": "code",
   "execution_count": 4,
   "metadata": {},
   "outputs": [
    {
     "name": "stdout",
     "output_type": "stream",
     "text": [
      "((1000, 10), 'air_conditioner')\n",
      "((429, 10), 'car_horn')\n",
      "((1000, 10), 'children_playing')\n",
      "((1000, 10), 'dog_bark')\n",
      "((1000, 10), 'drilling')\n",
      "((1000, 10), 'engine_idling')\n",
      "((374, 10), 'gun_shot')\n",
      "((1000, 10), 'jackhammer')\n",
      "((929, 10), 'siren')\n",
      "((1000, 10), 'street_music')\n"
     ]
    }
   ],
   "source": [
    "for df in dfs:\n",
    "    print(df.shape, df['class'].unique()[0])\n",
    "    df['embedding'] = df['embedding'].apply(pickle.loads).values\n",
    "    df['mfcc'] = df['mfcc'].apply(pickle.loads).values\n",
    "#     df['mfcc'] = df['mfcc'].apply(lambda x: x.T)"
   ]
  },
  {
   "cell_type": "code",
   "execution_count": 5,
   "metadata": {},
   "outputs": [
    {
     "data": {
      "text/plain": [
       "(4, 128)"
      ]
     },
     "execution_count": 5,
     "metadata": {},
     "output_type": "execute_result"
    }
   ],
   "source": [
    "dfs[8]['embedding'][1].shape"
   ]
  },
  {
   "cell_type": "code",
   "execution_count": 6,
   "metadata": {},
   "outputs": [
    {
     "data": {
      "text/html": [
       "<div>\n",
       "<style>\n",
       "    .dataframe thead tr:only-child th {\n",
       "        text-align: right;\n",
       "    }\n",
       "\n",
       "    .dataframe thead th {\n",
       "        text-align: left;\n",
       "    }\n",
       "\n",
       "    .dataframe tbody tr th {\n",
       "        vertical-align: top;\n",
       "    }\n",
       "</style>\n",
       "<table border=\"1\" class=\"dataframe\">\n",
       "  <thead>\n",
       "    <tr style=\"text-align: right;\">\n",
       "      <th></th>\n",
       "      <th>slice_file_name</th>\n",
       "      <th>fsID</th>\n",
       "      <th>start</th>\n",
       "      <th>end</th>\n",
       "      <th>salience</th>\n",
       "      <th>fold</th>\n",
       "      <th>classID</th>\n",
       "      <th>class</th>\n",
       "      <th>embedding</th>\n",
       "      <th>mfcc</th>\n",
       "    </tr>\n",
       "  </thead>\n",
       "  <tbody>\n",
       "    <tr>\n",
       "      <th>0</th>\n",
       "      <td>100852-0-0-0.wav</td>\n",
       "      <td>100852</td>\n",
       "      <td>0.0</td>\n",
       "      <td>4.0</td>\n",
       "      <td>1</td>\n",
       "      <td>5</td>\n",
       "      <td>0</td>\n",
       "      <td>air_conditioner</td>\n",
       "      <td>[[154, 27, 142, 51, 255, 91, 129, 86, 98, 213,...</td>\n",
       "      <td>[[-688.746358108, -255.410142174, -96.76443686...</td>\n",
       "    </tr>\n",
       "    <tr>\n",
       "      <th>1</th>\n",
       "      <td>100852-0-0-1.wav</td>\n",
       "      <td>100852</td>\n",
       "      <td>0.5</td>\n",
       "      <td>4.5</td>\n",
       "      <td>1</td>\n",
       "      <td>5</td>\n",
       "      <td>0</td>\n",
       "      <td>air_conditioner</td>\n",
       "      <td>[[151, 23, 121, 33, 255, 89, 144, 54, 71, 227,...</td>\n",
       "      <td>[[-55.1333510316, -51.5742405023, -50.06881153...</td>\n",
       "    </tr>\n",
       "    <tr>\n",
       "      <th>2</th>\n",
       "      <td>100852-0-0-10.wav</td>\n",
       "      <td>100852</td>\n",
       "      <td>5.0</td>\n",
       "      <td>9.0</td>\n",
       "      <td>1</td>\n",
       "      <td>5</td>\n",
       "      <td>0</td>\n",
       "      <td>air_conditioner</td>\n",
       "      <td>[[158, 21, 145, 59, 228, 41, 130, 90, 144, 204...</td>\n",
       "      <td>[[-38.6810339871, -34.0179341933, -40.03515054...</td>\n",
       "    </tr>\n",
       "    <tr>\n",
       "      <th>3</th>\n",
       "      <td>100852-0-0-11.wav</td>\n",
       "      <td>100852</td>\n",
       "      <td>5.5</td>\n",
       "      <td>9.5</td>\n",
       "      <td>1</td>\n",
       "      <td>5</td>\n",
       "      <td>0</td>\n",
       "      <td>air_conditioner</td>\n",
       "      <td>[[153, 24, 150, 38, 252, 83, 149, 95, 125, 238...</td>\n",
       "      <td>[[-52.1645261052, -40.6669017648, -37.14513627...</td>\n",
       "    </tr>\n",
       "    <tr>\n",
       "      <th>4</th>\n",
       "      <td>100852-0-0-12.wav</td>\n",
       "      <td>100852</td>\n",
       "      <td>6.0</td>\n",
       "      <td>10.0</td>\n",
       "      <td>1</td>\n",
       "      <td>5</td>\n",
       "      <td>0</td>\n",
       "      <td>air_conditioner</td>\n",
       "      <td>[[153, 22, 138, 25, 255, 93, 143, 70, 96, 238,...</td>\n",
       "      <td>[[-41.98415573, -38.8715039117, -35.3564076947...</td>\n",
       "    </tr>\n",
       "  </tbody>\n",
       "</table>\n",
       "</div>"
      ],
      "text/plain": [
       "     slice_file_name    fsID  start   end  salience  fold  classID  \\\n",
       "0   100852-0-0-0.wav  100852    0.0   4.0         1     5        0   \n",
       "1   100852-0-0-1.wav  100852    0.5   4.5         1     5        0   \n",
       "2  100852-0-0-10.wav  100852    5.0   9.0         1     5        0   \n",
       "3  100852-0-0-11.wav  100852    5.5   9.5         1     5        0   \n",
       "4  100852-0-0-12.wav  100852    6.0  10.0         1     5        0   \n",
       "\n",
       "             class                                          embedding  \\\n",
       "0  air_conditioner  [[154, 27, 142, 51, 255, 91, 129, 86, 98, 213,...   \n",
       "1  air_conditioner  [[151, 23, 121, 33, 255, 89, 144, 54, 71, 227,...   \n",
       "2  air_conditioner  [[158, 21, 145, 59, 228, 41, 130, 90, 144, 204...   \n",
       "3  air_conditioner  [[153, 24, 150, 38, 252, 83, 149, 95, 125, 238...   \n",
       "4  air_conditioner  [[153, 22, 138, 25, 255, 93, 143, 70, 96, 238,...   \n",
       "\n",
       "                                                mfcc  \n",
       "0  [[-688.746358108, -255.410142174, -96.76443686...  \n",
       "1  [[-55.1333510316, -51.5742405023, -50.06881153...  \n",
       "2  [[-38.6810339871, -34.0179341933, -40.03515054...  \n",
       "3  [[-52.1645261052, -40.6669017648, -37.14513627...  \n",
       "4  [[-41.98415573, -38.8715039117, -35.3564076947...  "
      ]
     },
     "execution_count": 6,
     "metadata": {},
     "output_type": "execute_result"
    }
   ],
   "source": [
    "dfs[0].head()"
   ]
  },
  {
   "cell_type": "code",
   "execution_count": 7,
   "metadata": {},
   "outputs": [
    {
     "data": {
      "text/html": [
       "<div>\n",
       "<style>\n",
       "    .dataframe thead tr:only-child th {\n",
       "        text-align: right;\n",
       "    }\n",
       "\n",
       "    .dataframe thead th {\n",
       "        text-align: left;\n",
       "    }\n",
       "\n",
       "    .dataframe tbody tr th {\n",
       "        vertical-align: top;\n",
       "    }\n",
       "</style>\n",
       "<table border=\"1\" class=\"dataframe\">\n",
       "  <thead>\n",
       "    <tr style=\"text-align: right;\">\n",
       "      <th></th>\n",
       "      <th>classID</th>\n",
       "      <th>class</th>\n",
       "      <th>embedding</th>\n",
       "      <th>mfcc</th>\n",
       "    </tr>\n",
       "  </thead>\n",
       "  <tbody>\n",
       "    <tr>\n",
       "      <th>0</th>\n",
       "      <td>0</td>\n",
       "      <td>air_conditioner</td>\n",
       "      <td>[[154, 27, 142, 51, 255, 91, 129, 86, 98, 213,...</td>\n",
       "      <td>[[-688.746358108, -255.410142174, -96.76443686...</td>\n",
       "    </tr>\n",
       "    <tr>\n",
       "      <th>1</th>\n",
       "      <td>0</td>\n",
       "      <td>air_conditioner</td>\n",
       "      <td>[[151, 23, 121, 33, 255, 89, 144, 54, 71, 227,...</td>\n",
       "      <td>[[-55.1333510316, -51.5742405023, -50.06881153...</td>\n",
       "    </tr>\n",
       "    <tr>\n",
       "      <th>2</th>\n",
       "      <td>0</td>\n",
       "      <td>air_conditioner</td>\n",
       "      <td>[[158, 21, 145, 59, 228, 41, 130, 90, 144, 204...</td>\n",
       "      <td>[[-38.6810339871, -34.0179341933, -40.03515054...</td>\n",
       "    </tr>\n",
       "    <tr>\n",
       "      <th>3</th>\n",
       "      <td>0</td>\n",
       "      <td>air_conditioner</td>\n",
       "      <td>[[153, 24, 150, 38, 252, 83, 149, 95, 125, 238...</td>\n",
       "      <td>[[-52.1645261052, -40.6669017648, -37.14513627...</td>\n",
       "    </tr>\n",
       "    <tr>\n",
       "      <th>4</th>\n",
       "      <td>0</td>\n",
       "      <td>air_conditioner</td>\n",
       "      <td>[[153, 22, 138, 25, 255, 93, 143, 70, 96, 238,...</td>\n",
       "      <td>[[-41.98415573, -38.8715039117, -35.3564076947...</td>\n",
       "    </tr>\n",
       "  </tbody>\n",
       "</table>\n",
       "</div>"
      ],
      "text/plain": [
       "   classID            class  \\\n",
       "0        0  air_conditioner   \n",
       "1        0  air_conditioner   \n",
       "2        0  air_conditioner   \n",
       "3        0  air_conditioner   \n",
       "4        0  air_conditioner   \n",
       "\n",
       "                                           embedding  \\\n",
       "0  [[154, 27, 142, 51, 255, 91, 129, 86, 98, 213,...   \n",
       "1  [[151, 23, 121, 33, 255, 89, 144, 54, 71, 227,...   \n",
       "2  [[158, 21, 145, 59, 228, 41, 130, 90, 144, 204...   \n",
       "3  [[153, 24, 150, 38, 252, 83, 149, 95, 125, 238...   \n",
       "4  [[153, 22, 138, 25, 255, 93, 143, 70, 96, 238,...   \n",
       "\n",
       "                                                mfcc  \n",
       "0  [[-688.746358108, -255.410142174, -96.76443686...  \n",
       "1  [[-55.1333510316, -51.5742405023, -50.06881153...  \n",
       "2  [[-38.6810339871, -34.0179341933, -40.03515054...  \n",
       "3  [[-52.1645261052, -40.6669017648, -37.14513627...  \n",
       "4  [[-41.98415573, -38.8715039117, -35.3564076947...  "
      ]
     },
     "execution_count": 7,
     "metadata": {},
     "output_type": "execute_result"
    }
   ],
   "source": [
    "big_df = pd.concat(dfs)[['classID', 'class', 'embedding', 'mfcc']]\n",
    "big_df.head()"
   ]
  },
  {
   "cell_type": "code",
   "execution_count": 8,
   "metadata": {},
   "outputs": [],
   "source": [
    "big_df.to_pickle('../Data/features/full_data.pkl')"
   ]
  },
  {
   "cell_type": "code",
   "execution_count": null,
   "metadata": {},
   "outputs": [],
   "source": []
  }
 ],
 "metadata": {
  "kernelspec": {
   "display_name": "Python 3",
   "language": "python",
   "name": "python3"
  },
  "language_info": {
   "codemirror_mode": {
    "name": "ipython",
    "version": 2
   },
   "file_extension": ".py",
   "mimetype": "text/x-python",
   "name": "python",
   "nbconvert_exporter": "python",
   "pygments_lexer": "ipython2",
   "version": "2.7.13"
  }
 },
 "nbformat": 4,
 "nbformat_minor": 2
}
