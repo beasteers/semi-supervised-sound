{
 "cells": [
  {
   "cell_type": "code",
   "execution_count": 1,
   "metadata": {},
   "outputs": [],
   "source": [
    "# !pip install librosa"
   ]
  },
  {
   "cell_type": "code",
   "execution_count": 1,
   "metadata": {
    "colab": {
     "autoexec": {
      "startup": false,
      "wait_interval": 0
     }
    },
    "colab_type": "code",
    "id": "rfAFFYipzGDa"
   },
   "outputs": [
    {
     "name": "stdout",
     "output_type": "stream",
     "text": [
      "WARNING:tensorflow:From //anaconda/envs/ml-sounds/lib/python2.7/site-packages/tensorflow/contrib/learn/python/learn/datasets/base.py:198: retry (from tensorflow.contrib.learn.python.learn.datasets.base) is deprecated and will be removed in a future version.\n",
      "Instructions for updating:\n",
      "Use the retry module or similar alternatives.\n"
     ]
    },
    {
     "data": {
      "application/javascript": [
       "$(document).ready(\n",
       "    function() {\n",
       "        function appendUniqueDiv(){\n",
       "            // append a div with our uuid so we can check that it's already\n",
       "            // been sent and avoid duplicates on page reload\n",
       "            var notifiedDiv = document.createElement(\"div\")\n",
       "            notifiedDiv.id = \"87741aa5-677d-4a97-90e1-59c584687be5\"\n",
       "            element.append(notifiedDiv)\n",
       "        }\n",
       "\n",
       "        // only send notifications if the pageload is complete; this will\n",
       "        // help stop extra notifications when a saved notebook is loaded,\n",
       "        // which during testing gives us state \"interactive\", not \"complete\"\n",
       "        if (document.readyState === 'complete') {\n",
       "            // check for the div that signifies that the notification\n",
       "            // was already sent\n",
       "            if (document.getElementById(\"87741aa5-677d-4a97-90e1-59c584687be5\") === null) {\n",
       "                var notificationPayload = {\"body\": \"All done!\", \"requireInteraction\": false, \"icon\": \"/static/base/images/favicon.ico\", \"autonotify_after\": \"30\", \"autonotify_output\": true};\n",
       "                if (Notification.permission !== 'denied') {\n",
       "                    if (Notification.permission !== 'granted') { \n",
       "                        Notification.requestPermission(function (permission) {\n",
       "                            if(!('permission' in Notification)) {\n",
       "                                Notification.permission = permission\n",
       "                            }\n",
       "                            if (Notification.permission === 'granted') {\n",
       "                                var notification = new Notification(\"Jupyter Notebook\", notificationPayload)\n",
       "                                appendUniqueDiv()\n",
       "                            }\n",
       "                        })\n",
       "                    } else if (Notification.permission === 'granted') {\n",
       "                        var notification = new Notification(\"Jupyter Notebook\", notificationPayload)\n",
       "                        appendUniqueDiv()\n",
       "                    }\n",
       "                }\n",
       "            }\n",
       "        }\n",
       "    }\n",
       ")\n"
      ],
      "text/plain": [
       "<IPython.core.display.Javascript object>"
      ]
     },
     "metadata": {},
     "output_type": "display_data"
    }
   ],
   "source": [
    "import os\n",
    "import pickle\n",
    "import numpy as np\n",
    "import pandas as pd\n",
    "from glob import glob\n",
    "from tqdm import tqdm_notebook # progress bars\n",
    "from ipywidgets import IntProgress # bug fix with tqdm\n",
    "\n",
    "import librosa # calculates mfccs\n",
    "\n",
    "# vggish\n",
    "import tensorflow as tf\n",
    "from audioset import vggish_input\n",
    "from audioset import vggish_slim\n",
    "from audioset import vggish_postprocess\n",
    "from audioset import vggish_params\n",
    "from audioset import mel_features\n",
    "\n",
    "import matplotlib.pyplot as plt\n",
    "%matplotlib inline"
   ]
  },
  {
   "cell_type": "code",
   "execution_count": 2,
   "metadata": {},
   "outputs": [],
   "source": [
    "plt.rcParams['figure.figsize'] = 15, 8\n",
    "\n",
    "# mapping between class index and label\n",
    "classes = ['air_conditioner', 'car_horn', 'children_playing', 'dog_bark', 'drilling',\n",
    "           'engine_idling', 'gun_shot', 'jackhammer', 'siren', 'street_music']\n",
    "class_index = lambda c: classes.index(c) # ('car_horn') returns 1\n",
    "\n",
    "# get the glob file pattern for audio files in a specific class\n",
    "wav_file_pattern = '../Data/UrbanSound8k/audio/fold*/*-{}-*-*.wav'\n",
    "class_fname = lambda c: wav_file_pattern.format(class_index(c)) # ('car_horn') returns '.../*-1-*-*.wav'"
   ]
  },
  {
   "cell_type": "markdown",
   "metadata": {
    "colab_type": "text",
    "id": "QzvI-G_DzGDf"
   },
   "source": [
    "# Defining the CNN\n",
    "We are loading the pretrained VGGish model from the audioset directory. The original repo can be found [here](https://github.com/tensorflow/models/tree/master/research/audioset).\n",
    "\n",
    "### Don't run this cell twice cuz it'll give you an error !!"
   ]
  },
  {
   "cell_type": "code",
   "execution_count": 4,
   "metadata": {
    "colab": {
     "autoexec": {
      "startup": false,
      "wait_interval": 0
     }
    },
    "colab_type": "code",
    "id": "3wM2FvSRzGDo",
    "outputId": "ee388168-e347-4f7a-dce1-e7a94fc2b993"
   },
   "outputs": [
    {
     "name": "stdout",
     "output_type": "stream",
     "text": [
      "INFO:tensorflow:Restoring parameters from audioset/vggish_model.ckpt\n"
     ]
    }
   ],
   "source": [
    "# don't run twice\n",
    "# VGG-ish model parameters\n",
    "PCA_PARAMS = 'audioset/vggish_pca_params.npz'\n",
    "CHECKPOINT = 'audioset/vggish_model.ckpt'\n",
    "\n",
    "# Prepare a postprocessor to munge the model embeddings\n",
    "pproc = vggish_postprocess.Postprocessor(PCA_PARAMS)\n",
    "\n",
    "# initialize tensorflow stuff\n",
    "tf.Graph().as_default()\n",
    "sess = tf.Session()\n",
    "\n",
    "# Define the model in inference mode, load the checkpoint, and\n",
    "# locate input and output tensors.\n",
    "vggish_slim.define_vggish_slim(training=False)\n",
    "vggish_slim.load_vggish_slim_checkpoint(sess, CHECKPOINT)\n",
    "features_tensor = sess.graph.get_tensor_by_name(vggish_params.INPUT_TENSOR_NAME)\n",
    "embedding_tensor = sess.graph.get_tensor_by_name(vggish_params.OUTPUT_TENSOR_NAME)"
   ]
  },
  {
   "cell_type": "markdown",
   "metadata": {},
   "source": [
    "# Load files for a specific class"
   ]
  },
  {
   "cell_type": "code",
   "execution_count": 3,
   "metadata": {
    "colab": {
     "autoexec": {
      "startup": false,
      "wait_interval": 0
     }
    },
    "colab_type": "code",
    "id": "AuaL5ZP0zGDg"
   },
   "outputs": [
    {
     "data": {
      "text/plain": [
       "('../Data/features/output_air_conditioner.pkl',\n",
       " 1000,\n",
       " ['../Data/UrbanSound8k/audio/fold1/127873-0-0-0.wav',\n",
       "  '../Data/UrbanSound8k/audio/fold1/134717-0-0-0.wav',\n",
       "  '../Data/UrbanSound8k/audio/fold1/134717-0-0-1.wav',\n",
       "  '../Data/UrbanSound8k/audio/fold1/134717-0-0-12.wav',\n",
       "  '../Data/UrbanSound8k/audio/fold1/134717-0-0-13.wav'])"
      ]
     },
     "execution_count": 3,
     "metadata": {},
     "output_type": "execute_result"
    }
   ],
   "source": [
    "# choose which class you're extracting embeddings for\n",
    "CLASS = 'air_conditioner'\n",
    "\n",
    "# we can extract data for each class to separate files and combine them after\n",
    "OUTPUT_FILE = '../Data/features/output_{}.pkl'.format(CLASS)\n",
    "\n",
    "# get all wave files for a specific class\n",
    "wav_files = glob(class_fname(CLASS))\n",
    "OUTPUT_FILE, len(wav_files), wav_files[:5]"
   ]
  },
  {
   "cell_type": "markdown",
   "metadata": {
    "colab_type": "text",
    "id": "SlXRJtzUzGD0"
   },
   "source": [
    "# Run the model and get embeddings\n",
    "The embeddings are extracted and then the PCA is taken of the embeddings."
   ]
  },
  {
   "cell_type": "code",
   "execution_count": 6,
   "metadata": {
    "colab": {
     "autoexec": {
      "startup": false,
      "wait_interval": 0
     }
    },
    "colab_type": "code",
    "id": "Z4GirJrhzGD3"
   },
   "outputs": [
    {
     "data": {
      "application/vnd.jupyter.widget-view+json": {
       "model_id": "0e1a727d105f4f6292b306b95dc89852",
       "version_major": 2,
       "version_minor": 0
      },
      "text/plain": [
       "HBox(children=(IntProgress(value=0, description=u'VGGish', max=1000), HTML(value=u'')))"
      ]
     },
     "metadata": {},
     "output_type": "display_data"
    },
    {
     "name": "stdout",
     "output_type": "stream",
     "text": [
      "\n"
     ]
    },
    {
     "data": {
      "application/javascript": [
       "$(document).ready(\n",
       "    function() {\n",
       "        function appendUniqueDiv(){\n",
       "            // append a div with our uuid so we can check that it's already\n",
       "            // been sent and avoid duplicates on page reload\n",
       "            var notifiedDiv = document.createElement(\"div\")\n",
       "            notifiedDiv.id = \"f8b4f2ef-bf16-4b47-9546-cfdb960f60f7\"\n",
       "            element.append(notifiedDiv)\n",
       "        }\n",
       "\n",
       "        // only send notifications if the pageload is complete; this will\n",
       "        // help stop extra notifications when a saved notebook is loaded,\n",
       "        // which during testing gives us state \"interactive\", not \"complete\"\n",
       "        if (document.readyState === 'complete') {\n",
       "            // check for the div that signifies that the notification\n",
       "            // was already sent\n",
       "            if (document.getElementById(\"f8b4f2ef-bf16-4b47-9546-cfdb960f60f7\") === null) {\n",
       "                var notificationPayload = {\"body\": \"('../Data/features/output_air_conditioner.csv', 1000, ['../Data/UrbanSound8k/audio/fold1/127873-0-0-0.wav', '../Data/UrbanSound8k/audio/fold1/134717-0-0-0.wav', '../Data/UrbanSound8k/audio/fold1/134717-0-0-1.wav', '../Data/UrbanSound8k/audio/fold1/134717-0-0-12.wav', '../Data/UrbanSound8k/audio/fold1/134717-0-0-13.wav'])\", \"requireInteraction\": false, \"icon\": \"/static/base/images/favicon.ico\", \"autonotify_after\": \"30\", \"autonotify_output\": true};\n",
       "                if (Notification.permission !== 'denied') {\n",
       "                    if (Notification.permission !== 'granted') { \n",
       "                        Notification.requestPermission(function (permission) {\n",
       "                            if(!('permission' in Notification)) {\n",
       "                                Notification.permission = permission\n",
       "                            }\n",
       "                            if (Notification.permission === 'granted') {\n",
       "                                var notification = new Notification(\"Jupyter Notebook\", notificationPayload)\n",
       "                                appendUniqueDiv()\n",
       "                            }\n",
       "                        })\n",
       "                    } else if (Notification.permission === 'granted') {\n",
       "                        var notification = new Notification(\"Jupyter Notebook\", notificationPayload)\n",
       "                        appendUniqueDiv()\n",
       "                    }\n",
       "                }\n",
       "            }\n",
       "        }\n",
       "    }\n",
       ")\n"
      ],
      "text/plain": [
       "<IPython.core.display.Javascript object>"
      ]
     },
     "metadata": {},
     "output_type": "display_data"
    }
   ],
   "source": [
    "postprocessed_batch = []\n",
    "for wav_file in tqdm_notebook(wav_files, desc='VGGish'):\n",
    "    # load the file and calculate mel spectrogram\n",
    "    example = vggish_input.wavfile_to_examples(wav_file)\n",
    "    \n",
    "    if example.size:\n",
    "        # get embedding\n",
    "        [embedding] = sess.run([embedding_tensor], feed_dict={features_tensor: example})\n",
    "        # get pca of embedding\n",
    "        pca = pproc.postprocess(embedding)\n",
    "    else:\n",
    "        pca = None\n",
    "    postprocessed_batch.append(pca)\n",
    "    "
   ]
  },
  {
   "cell_type": "markdown",
   "metadata": {},
   "source": [
    "# Compute MFCCs\n",
    "MFCCs are a representation of the timbre of a sound (as opposed to pitch). This is a large part of how we differentiate different sounds from each other. For a thorough explanation of MFCCs you can go [here](http://www.speech.cs.cmu.edu/15-492/slides/03_mfcc.pdf), but only if you're interested. Otherwise feel free to just run the code. :D"
   ]
  },
  {
   "cell_type": "code",
   "execution_count": 8,
   "metadata": {},
   "outputs": [
    {
     "data": {
      "text/plain": [
       "0.023219954648526078"
      ]
     },
     "execution_count": 8,
     "metadata": {},
     "output_type": "execute_result"
    }
   ],
   "source": [
    "512 / 22050."
   ]
  },
  {
   "cell_type": "code",
   "execution_count": 4,
   "metadata": {},
   "outputs": [
    {
     "data": {
      "application/vnd.jupyter.widget-view+json": {
       "model_id": "8ad9eeabc9c743c6a11bebb401c07eaf",
       "version_major": 2,
       "version_minor": 0
      },
      "text/plain": [
       "HBox(children=(IntProgress(value=0, description=u'MFCCs', max=1000), HTML(value=u'')))"
      ]
     },
     "metadata": {},
     "output_type": "display_data"
    },
    {
     "name": "stdout",
     "output_type": "stream",
     "text": [
      "22050\n",
      "22050\n",
      "22050\n",
      "22050\n",
      "22050\n",
      "22050\n",
      "22050\n",
      "22050\n",
      "22050\n",
      "22050\n",
      "22050\n",
      "22050\n",
      "22050\n",
      "22050\n",
      "22050\n",
      "22050\n",
      "22050\n",
      "22050\n",
      "22050\n",
      "22050\n",
      "22050\n",
      "22050\n",
      "22050\n",
      "22050\n",
      "22050\n",
      "22050\n",
      "22050\n",
      "22050\n",
      "22050\n",
      "22050\n",
      "22050\n",
      "22050\n",
      "22050\n",
      "22050\n",
      "22050\n",
      "22050\n",
      "22050\n",
      "22050\n",
      "22050\n"
     ]
    },
    {
     "ename": "KeyboardInterrupt",
     "evalue": "",
     "output_type": "error",
     "traceback": [
      "\u001b[0;31m---------------------------------------------------------------------------\u001b[0m",
      "\u001b[0;31mKeyboardInterrupt\u001b[0m                         Traceback (most recent call last)",
      "\u001b[0;32m<ipython-input-4-4bcb2bd6ccb4>\u001b[0m in \u001b[0;36m<module>\u001b[0;34m()\u001b[0m\n\u001b[1;32m      2\u001b[0m \u001b[0;32mfor\u001b[0m \u001b[0mwav_file\u001b[0m \u001b[0;32min\u001b[0m \u001b[0mtqdm_notebook\u001b[0m\u001b[0;34m(\u001b[0m\u001b[0mwav_files\u001b[0m\u001b[0;34m,\u001b[0m \u001b[0mdesc\u001b[0m\u001b[0;34m=\u001b[0m\u001b[0;34m'MFCCs'\u001b[0m\u001b[0;34m)\u001b[0m\u001b[0;34m:\u001b[0m\u001b[0;34m\u001b[0m\u001b[0m\n\u001b[1;32m      3\u001b[0m     \u001b[0;31m# load the audio files\u001b[0m\u001b[0;34m\u001b[0m\u001b[0;34m\u001b[0m\u001b[0m\n\u001b[0;32m----> 4\u001b[0;31m     \u001b[0mdata\u001b[0m\u001b[0;34m,\u001b[0m \u001b[0msample_rate\u001b[0m \u001b[0;34m=\u001b[0m \u001b[0mlibrosa\u001b[0m\u001b[0;34m.\u001b[0m\u001b[0mload\u001b[0m\u001b[0;34m(\u001b[0m\u001b[0mwav_file\u001b[0m\u001b[0;34m)\u001b[0m\u001b[0;34m\u001b[0m\u001b[0m\n\u001b[0m\u001b[1;32m      5\u001b[0m     \u001b[0;32mprint\u001b[0m\u001b[0;34m(\u001b[0m\u001b[0msample_rate\u001b[0m\u001b[0;34m)\u001b[0m\u001b[0;34m\u001b[0m\u001b[0m\n\u001b[1;32m      6\u001b[0m     \u001b[0;31m# compute the mfccs\u001b[0m\u001b[0;34m\u001b[0m\u001b[0;34m\u001b[0m\u001b[0m\n",
      "\u001b[0;32m//anaconda/envs/ml-sounds/lib/python2.7/site-packages/librosa/core/audio.pyc\u001b[0m in \u001b[0;36mload\u001b[0;34m(path, sr, mono, offset, duration, dtype, res_type)\u001b[0m\n\u001b[1;32m    124\u001b[0m         \u001b[0mn\u001b[0m \u001b[0;34m=\u001b[0m \u001b[0;36m0\u001b[0m\u001b[0;34m\u001b[0m\u001b[0m\n\u001b[1;32m    125\u001b[0m \u001b[0;34m\u001b[0m\u001b[0m\n\u001b[0;32m--> 126\u001b[0;31m         \u001b[0;32mfor\u001b[0m \u001b[0mframe\u001b[0m \u001b[0;32min\u001b[0m \u001b[0minput_file\u001b[0m\u001b[0;34m:\u001b[0m\u001b[0;34m\u001b[0m\u001b[0m\n\u001b[0m\u001b[1;32m    127\u001b[0m             \u001b[0mframe\u001b[0m \u001b[0;34m=\u001b[0m \u001b[0mutil\u001b[0m\u001b[0;34m.\u001b[0m\u001b[0mbuf_to_float\u001b[0m\u001b[0;34m(\u001b[0m\u001b[0mframe\u001b[0m\u001b[0;34m,\u001b[0m \u001b[0mdtype\u001b[0m\u001b[0;34m=\u001b[0m\u001b[0mdtype\u001b[0m\u001b[0;34m)\u001b[0m\u001b[0;34m\u001b[0m\u001b[0m\n\u001b[1;32m    128\u001b[0m             \u001b[0mn_prev\u001b[0m \u001b[0;34m=\u001b[0m \u001b[0mn\u001b[0m\u001b[0;34m\u001b[0m\u001b[0m\n",
      "\u001b[0;32m//anaconda/envs/ml-sounds/lib/python2.7/site-packages/audioread/rawread.pyc\u001b[0m in \u001b[0;36mread_data\u001b[0;34m(self, block_samples)\u001b[0m\n\u001b[1;32m    128\u001b[0m \u001b[0;34m\u001b[0m\u001b[0m\n\u001b[1;32m    129\u001b[0m         \u001b[0;32mwhile\u001b[0m \u001b[0mTrue\u001b[0m\u001b[0;34m:\u001b[0m\u001b[0;34m\u001b[0m\u001b[0m\n\u001b[0;32m--> 130\u001b[0;31m             \u001b[0mdata\u001b[0m \u001b[0;34m=\u001b[0m \u001b[0mself\u001b[0m\u001b[0;34m.\u001b[0m\u001b[0m_file\u001b[0m\u001b[0;34m.\u001b[0m\u001b[0mreadframes\u001b[0m\u001b[0;34m(\u001b[0m\u001b[0mblock_samples\u001b[0m\u001b[0;34m)\u001b[0m\u001b[0;34m\u001b[0m\u001b[0m\n\u001b[0m\u001b[1;32m    131\u001b[0m             \u001b[0;32mif\u001b[0m \u001b[0;32mnot\u001b[0m \u001b[0mdata\u001b[0m\u001b[0;34m:\u001b[0m\u001b[0;34m\u001b[0m\u001b[0m\n\u001b[1;32m    132\u001b[0m                 \u001b[0;32mbreak\u001b[0m\u001b[0;34m\u001b[0m\u001b[0m\n",
      "\u001b[0;32m//anaconda/envs/ml-sounds/lib/python2.7/wave.pyc\u001b[0m in \u001b[0;36mreadframes\u001b[0;34m(self, nframes)\u001b[0m\n\u001b[1;32m    254\u001b[0m             \u001b[0mdata\u001b[0m \u001b[0;34m=\u001b[0m \u001b[0mdata\u001b[0m\u001b[0;34m.\u001b[0m\u001b[0mtostring\u001b[0m\u001b[0;34m(\u001b[0m\u001b[0;34m)\u001b[0m\u001b[0;34m\u001b[0m\u001b[0m\n\u001b[1;32m    255\u001b[0m         \u001b[0;32melse\u001b[0m\u001b[0;34m:\u001b[0m\u001b[0;34m\u001b[0m\u001b[0m\n\u001b[0;32m--> 256\u001b[0;31m             \u001b[0mdata\u001b[0m \u001b[0;34m=\u001b[0m \u001b[0mself\u001b[0m\u001b[0;34m.\u001b[0m\u001b[0m_data_chunk\u001b[0m\u001b[0;34m.\u001b[0m\u001b[0mread\u001b[0m\u001b[0;34m(\u001b[0m\u001b[0mnframes\u001b[0m \u001b[0;34m*\u001b[0m \u001b[0mself\u001b[0m\u001b[0;34m.\u001b[0m\u001b[0m_framesize\u001b[0m\u001b[0;34m)\u001b[0m\u001b[0;34m\u001b[0m\u001b[0m\n\u001b[0m\u001b[1;32m    257\u001b[0m             \u001b[0;32mif\u001b[0m \u001b[0mself\u001b[0m\u001b[0;34m.\u001b[0m\u001b[0m_sampwidth\u001b[0m \u001b[0;34m==\u001b[0m \u001b[0;36m3\u001b[0m \u001b[0;32mand\u001b[0m \u001b[0msys\u001b[0m\u001b[0;34m.\u001b[0m\u001b[0mbyteorder\u001b[0m \u001b[0;34m==\u001b[0m \u001b[0;34m'big'\u001b[0m\u001b[0;34m:\u001b[0m\u001b[0;34m\u001b[0m\u001b[0m\n\u001b[1;32m    258\u001b[0m                 \u001b[0mdata\u001b[0m \u001b[0;34m=\u001b[0m \u001b[0m_byteswap3\u001b[0m\u001b[0;34m(\u001b[0m\u001b[0mdata\u001b[0m\u001b[0;34m)\u001b[0m\u001b[0;34m\u001b[0m\u001b[0m\n",
      "\u001b[0;32m//anaconda/envs/ml-sounds/lib/python2.7/chunk.pyc\u001b[0m in \u001b[0;36mread\u001b[0;34m(self, size)\u001b[0m\n\u001b[1;32m    134\u001b[0m         \u001b[0;32mif\u001b[0m \u001b[0msize\u001b[0m \u001b[0;34m>\u001b[0m \u001b[0mself\u001b[0m\u001b[0;34m.\u001b[0m\u001b[0mchunksize\u001b[0m \u001b[0;34m-\u001b[0m \u001b[0mself\u001b[0m\u001b[0;34m.\u001b[0m\u001b[0msize_read\u001b[0m\u001b[0;34m:\u001b[0m\u001b[0;34m\u001b[0m\u001b[0m\n\u001b[1;32m    135\u001b[0m             \u001b[0msize\u001b[0m \u001b[0;34m=\u001b[0m \u001b[0mself\u001b[0m\u001b[0;34m.\u001b[0m\u001b[0mchunksize\u001b[0m \u001b[0;34m-\u001b[0m \u001b[0mself\u001b[0m\u001b[0;34m.\u001b[0m\u001b[0msize_read\u001b[0m\u001b[0;34m\u001b[0m\u001b[0m\n\u001b[0;32m--> 136\u001b[0;31m         \u001b[0mdata\u001b[0m \u001b[0;34m=\u001b[0m \u001b[0mself\u001b[0m\u001b[0;34m.\u001b[0m\u001b[0mfile\u001b[0m\u001b[0;34m.\u001b[0m\u001b[0mread\u001b[0m\u001b[0;34m(\u001b[0m\u001b[0msize\u001b[0m\u001b[0;34m)\u001b[0m\u001b[0;34m\u001b[0m\u001b[0m\n\u001b[0m\u001b[1;32m    137\u001b[0m         \u001b[0mself\u001b[0m\u001b[0;34m.\u001b[0m\u001b[0msize_read\u001b[0m \u001b[0;34m=\u001b[0m \u001b[0mself\u001b[0m\u001b[0;34m.\u001b[0m\u001b[0msize_read\u001b[0m \u001b[0;34m+\u001b[0m \u001b[0mlen\u001b[0m\u001b[0;34m(\u001b[0m\u001b[0mdata\u001b[0m\u001b[0;34m)\u001b[0m\u001b[0;34m\u001b[0m\u001b[0m\n\u001b[1;32m    138\u001b[0m         \u001b[0;32mif\u001b[0m \u001b[0mself\u001b[0m\u001b[0;34m.\u001b[0m\u001b[0msize_read\u001b[0m \u001b[0;34m==\u001b[0m \u001b[0mself\u001b[0m\u001b[0;34m.\u001b[0m\u001b[0mchunksize\u001b[0m \u001b[0;32mand\u001b[0m\u001b[0;31m \u001b[0m\u001b[0;31m\\\u001b[0m\u001b[0;34m\u001b[0m\u001b[0m\n",
      "\u001b[0;32m//anaconda/envs/ml-sounds/lib/python2.7/chunk.pyc\u001b[0m in \u001b[0;36mread\u001b[0;34m(self, size)\u001b[0m\n\u001b[1;32m    134\u001b[0m         \u001b[0;32mif\u001b[0m \u001b[0msize\u001b[0m \u001b[0;34m>\u001b[0m \u001b[0mself\u001b[0m\u001b[0;34m.\u001b[0m\u001b[0mchunksize\u001b[0m \u001b[0;34m-\u001b[0m \u001b[0mself\u001b[0m\u001b[0;34m.\u001b[0m\u001b[0msize_read\u001b[0m\u001b[0;34m:\u001b[0m\u001b[0;34m\u001b[0m\u001b[0m\n\u001b[1;32m    135\u001b[0m             \u001b[0msize\u001b[0m \u001b[0;34m=\u001b[0m \u001b[0mself\u001b[0m\u001b[0;34m.\u001b[0m\u001b[0mchunksize\u001b[0m \u001b[0;34m-\u001b[0m \u001b[0mself\u001b[0m\u001b[0;34m.\u001b[0m\u001b[0msize_read\u001b[0m\u001b[0;34m\u001b[0m\u001b[0m\n\u001b[0;32m--> 136\u001b[0;31m         \u001b[0mdata\u001b[0m \u001b[0;34m=\u001b[0m \u001b[0mself\u001b[0m\u001b[0;34m.\u001b[0m\u001b[0mfile\u001b[0m\u001b[0;34m.\u001b[0m\u001b[0mread\u001b[0m\u001b[0;34m(\u001b[0m\u001b[0msize\u001b[0m\u001b[0;34m)\u001b[0m\u001b[0;34m\u001b[0m\u001b[0m\n\u001b[0m\u001b[1;32m    137\u001b[0m         \u001b[0mself\u001b[0m\u001b[0;34m.\u001b[0m\u001b[0msize_read\u001b[0m \u001b[0;34m=\u001b[0m \u001b[0mself\u001b[0m\u001b[0;34m.\u001b[0m\u001b[0msize_read\u001b[0m \u001b[0;34m+\u001b[0m \u001b[0mlen\u001b[0m\u001b[0;34m(\u001b[0m\u001b[0mdata\u001b[0m\u001b[0;34m)\u001b[0m\u001b[0;34m\u001b[0m\u001b[0m\n\u001b[1;32m    138\u001b[0m         \u001b[0;32mif\u001b[0m \u001b[0mself\u001b[0m\u001b[0;34m.\u001b[0m\u001b[0msize_read\u001b[0m \u001b[0;34m==\u001b[0m \u001b[0mself\u001b[0m\u001b[0;34m.\u001b[0m\u001b[0mchunksize\u001b[0m \u001b[0;32mand\u001b[0m\u001b[0;31m \u001b[0m\u001b[0;31m\\\u001b[0m\u001b[0;34m\u001b[0m\u001b[0m\n",
      "\u001b[0;31mKeyboardInterrupt\u001b[0m: "
     ]
    }
   ],
   "source": [
    "mfcc_batch = []\n",
    "for wav_file in tqdm_notebook(wav_files, desc='MFCCs'):\n",
    "    # load the audio files\n",
    "    data, sample_rate = librosa.load(wav_file)\n",
    "    print(sample_rate)\n",
    "    # compute the mfccs\n",
    "    mfccs = librosa.feature.mfcc(y=data, sr=sample_rate).T\n",
    "    mfcc_batch.append(mfccs)"
   ]
  },
  {
   "cell_type": "markdown",
   "metadata": {},
   "source": [
    "# Save features to file"
   ]
  },
  {
   "cell_type": "markdown",
   "metadata": {},
   "source": [
    "### Info from [UrbanSound8k website](https://serv.cusp.nyu.edu/projects/urbansounddataset/urbansound8k.html)\n",
    "* slice_file_name: \n",
    "The name of the audio file. The name takes the following format: [fsID]-[classID]-[occurrenceID]-[sliceID].wav, where:\n",
    "[fsID] = the Freesound ID of the recording from which this excerpt (slice) is taken\n",
    "[classID] = a numeric identifier of the sound class (see description of classID below for further details)\n",
    "[occurrenceID] = a numeric identifier to distinguish different occurrences of the sound within the original recording\n",
    "[sliceID] = a numeric identifier to distinguish different slices taken from the same occurrence\n",
    "\n",
    "* fsID:\n",
    "The Freesound ID of the recording from which this excerpt (slice) is taken\n",
    "\n",
    "* start\n",
    "The start time of the slice in the original Freesound recording\n",
    "\n",
    "* end:\n",
    "The end time of slice in the original Freesound recording\n",
    "\n",
    "* salience:\n",
    "A (subjective) salience rating of the sound. 1 = foreground, 2 = background.\n",
    "\n",
    "* fold:\n",
    "The fold number (1-10) to which this file has been allocated.\n",
    "\n",
    "* classID:\n",
    "A numeric identifier of the sound class:\n",
    "0 = air_conditioner\n",
    "1 = car_horn\n",
    "2 = children_playing\n",
    "3 = dog_bark\n",
    "4 = drilling\n",
    "5 = engine_idling\n",
    "6 = gun_shot\n",
    "7 = jackhammer\n",
    "8 = siren\n",
    "9 = street_music\n",
    "\n",
    "* class:\n",
    "The class name: air_conditioner, car_horn, children_playing, dog_bark, drilling, engine_idling, gun_shot, jackhammer, \n",
    "siren, street_music."
   ]
  },
  {
   "cell_type": "code",
   "execution_count": 5,
   "metadata": {},
   "outputs": [
    {
     "data": {
      "text/html": [
       "<div>\n",
       "<style scoped>\n",
       "    .dataframe tbody tr th:only-of-type {\n",
       "        vertical-align: middle;\n",
       "    }\n",
       "\n",
       "    .dataframe tbody tr th {\n",
       "        vertical-align: top;\n",
       "    }\n",
       "\n",
       "    .dataframe thead th {\n",
       "        text-align: right;\n",
       "    }\n",
       "</style>\n",
       "<table border=\"1\" class=\"dataframe\">\n",
       "  <thead>\n",
       "    <tr style=\"text-align: right;\">\n",
       "      <th></th>\n",
       "      <th>fsID</th>\n",
       "      <th>start</th>\n",
       "      <th>end</th>\n",
       "      <th>salience</th>\n",
       "      <th>fold</th>\n",
       "      <th>classID</th>\n",
       "      <th>class</th>\n",
       "      <th>embedding</th>\n",
       "      <th>mfcc</th>\n",
       "    </tr>\n",
       "    <tr>\n",
       "      <th>slice_file_name</th>\n",
       "      <th></th>\n",
       "      <th></th>\n",
       "      <th></th>\n",
       "      <th></th>\n",
       "      <th></th>\n",
       "      <th></th>\n",
       "      <th></th>\n",
       "      <th></th>\n",
       "      <th></th>\n",
       "    </tr>\n",
       "  </thead>\n",
       "  <tbody>\n",
       "    <tr>\n",
       "      <th>100852-0-0-0.wav</th>\n",
       "      <td>100852</td>\n",
       "      <td>0.0</td>\n",
       "      <td>4.0</td>\n",
       "      <td>1</td>\n",
       "      <td>5</td>\n",
       "      <td>0</td>\n",
       "      <td>air_conditioner</td>\n",
       "      <td>cnumpy.core.multiarray\\n_reconstruct\\np0\\n(cnu...</td>\n",
       "      <td>cnumpy.core.multiarray\\n_reconstruct\\np0\\n(cnu...</td>\n",
       "    </tr>\n",
       "    <tr>\n",
       "      <th>100852-0-0-1.wav</th>\n",
       "      <td>100852</td>\n",
       "      <td>0.5</td>\n",
       "      <td>4.5</td>\n",
       "      <td>1</td>\n",
       "      <td>5</td>\n",
       "      <td>0</td>\n",
       "      <td>air_conditioner</td>\n",
       "      <td>cnumpy.core.multiarray\\n_reconstruct\\np0\\n(cnu...</td>\n",
       "      <td>cnumpy.core.multiarray\\n_reconstruct\\np0\\n(cnu...</td>\n",
       "    </tr>\n",
       "    <tr>\n",
       "      <th>100852-0-0-10.wav</th>\n",
       "      <td>100852</td>\n",
       "      <td>5.0</td>\n",
       "      <td>9.0</td>\n",
       "      <td>1</td>\n",
       "      <td>5</td>\n",
       "      <td>0</td>\n",
       "      <td>air_conditioner</td>\n",
       "      <td>cnumpy.core.multiarray\\n_reconstruct\\np0\\n(cnu...</td>\n",
       "      <td>cnumpy.core.multiarray\\n_reconstruct\\np0\\n(cnu...</td>\n",
       "    </tr>\n",
       "    <tr>\n",
       "      <th>100852-0-0-11.wav</th>\n",
       "      <td>100852</td>\n",
       "      <td>5.5</td>\n",
       "      <td>9.5</td>\n",
       "      <td>1</td>\n",
       "      <td>5</td>\n",
       "      <td>0</td>\n",
       "      <td>air_conditioner</td>\n",
       "      <td>cnumpy.core.multiarray\\n_reconstruct\\np0\\n(cnu...</td>\n",
       "      <td>cnumpy.core.multiarray\\n_reconstruct\\np0\\n(cnu...</td>\n",
       "    </tr>\n",
       "    <tr>\n",
       "      <th>100852-0-0-12.wav</th>\n",
       "      <td>100852</td>\n",
       "      <td>6.0</td>\n",
       "      <td>10.0</td>\n",
       "      <td>1</td>\n",
       "      <td>5</td>\n",
       "      <td>0</td>\n",
       "      <td>air_conditioner</td>\n",
       "      <td>cnumpy.core.multiarray\\n_reconstruct\\np0\\n(cnu...</td>\n",
       "      <td>cnumpy.core.multiarray\\n_reconstruct\\np0\\n(cnu...</td>\n",
       "    </tr>\n",
       "  </tbody>\n",
       "</table>\n",
       "</div>"
      ],
      "text/plain": [
       "                     fsID  start   end  salience  fold  classID  \\\n",
       "slice_file_name                                                   \n",
       "100852-0-0-0.wav   100852    0.0   4.0         1     5        0   \n",
       "100852-0-0-1.wav   100852    0.5   4.5         1     5        0   \n",
       "100852-0-0-10.wav  100852    5.0   9.0         1     5        0   \n",
       "100852-0-0-11.wav  100852    5.5   9.5         1     5        0   \n",
       "100852-0-0-12.wav  100852    6.0  10.0         1     5        0   \n",
       "\n",
       "                             class  \\\n",
       "slice_file_name                      \n",
       "100852-0-0-0.wav   air_conditioner   \n",
       "100852-0-0-1.wav   air_conditioner   \n",
       "100852-0-0-10.wav  air_conditioner   \n",
       "100852-0-0-11.wav  air_conditioner   \n",
       "100852-0-0-12.wav  air_conditioner   \n",
       "\n",
       "                                                           embedding  \\\n",
       "slice_file_name                                                        \n",
       "100852-0-0-0.wav   cnumpy.core.multiarray\\n_reconstruct\\np0\\n(cnu...   \n",
       "100852-0-0-1.wav   cnumpy.core.multiarray\\n_reconstruct\\np0\\n(cnu...   \n",
       "100852-0-0-10.wav  cnumpy.core.multiarray\\n_reconstruct\\np0\\n(cnu...   \n",
       "100852-0-0-11.wav  cnumpy.core.multiarray\\n_reconstruct\\np0\\n(cnu...   \n",
       "100852-0-0-12.wav  cnumpy.core.multiarray\\n_reconstruct\\np0\\n(cnu...   \n",
       "\n",
       "                                                                mfcc  \n",
       "slice_file_name                                                       \n",
       "100852-0-0-0.wav   cnumpy.core.multiarray\\n_reconstruct\\np0\\n(cnu...  \n",
       "100852-0-0-1.wav   cnumpy.core.multiarray\\n_reconstruct\\np0\\n(cnu...  \n",
       "100852-0-0-10.wav  cnumpy.core.multiarray\\n_reconstruct\\np0\\n(cnu...  \n",
       "100852-0-0-11.wav  cnumpy.core.multiarray\\n_reconstruct\\np0\\n(cnu...  \n",
       "100852-0-0-12.wav  cnumpy.core.multiarray\\n_reconstruct\\np0\\n(cnu...  "
      ]
     },
     "execution_count": 5,
     "metadata": {},
     "output_type": "execute_result"
    }
   ],
   "source": [
    "# create the output file if it doesn't exist\n",
    "if not os.path.isfile(OUTPUT_FILE):\n",
    "    df = pd.read_csv('../Data/UrbanSound8K/metadata/UrbanSound8K.csv').set_index('slice_file_name')\n",
    "    df = df[df['class'] == CLASS]\n",
    "    df['embedding'] = None\n",
    "    df['mfcc'] = None\n",
    "    df.to_csv(OUTPUT_FILE)\n",
    "\n",
    "# load data for that class\n",
    "df = pd.read_pickle(OUTPUT_FILE).set_index('slice_file_name')\n",
    "df.head()"
   ]
  },
  {
   "cell_type": "code",
   "execution_count": 11,
   "metadata": {},
   "outputs": [
    {
     "data": {
      "text/html": [
       "<div>\n",
       "<style scoped>\n",
       "    .dataframe tbody tr th:only-of-type {\n",
       "        vertical-align: middle;\n",
       "    }\n",
       "\n",
       "    .dataframe tbody tr th {\n",
       "        vertical-align: top;\n",
       "    }\n",
       "\n",
       "    .dataframe thead th {\n",
       "        text-align: right;\n",
       "    }\n",
       "</style>\n",
       "<table border=\"1\" class=\"dataframe\">\n",
       "  <thead>\n",
       "    <tr style=\"text-align: right;\">\n",
       "      <th></th>\n",
       "      <th>embedding</th>\n",
       "      <th>mfcc</th>\n",
       "    </tr>\n",
       "    <tr>\n",
       "      <th>slice_file_name</th>\n",
       "      <th></th>\n",
       "      <th></th>\n",
       "    </tr>\n",
       "  </thead>\n",
       "  <tbody>\n",
       "    <tr>\n",
       "      <th>127873-0-0-0.wav</th>\n",
       "      <td>cnumpy.core.multiarray\\n_reconstruct\\np0\\n(cnu...</td>\n",
       "      <td>cnumpy.core.multiarray\\n_reconstruct\\np0\\n(cnu...</td>\n",
       "    </tr>\n",
       "    <tr>\n",
       "      <th>134717-0-0-0.wav</th>\n",
       "      <td>cnumpy.core.multiarray\\n_reconstruct\\np0\\n(cnu...</td>\n",
       "      <td>cnumpy.core.multiarray\\n_reconstruct\\np0\\n(cnu...</td>\n",
       "    </tr>\n",
       "    <tr>\n",
       "      <th>134717-0-0-1.wav</th>\n",
       "      <td>cnumpy.core.multiarray\\n_reconstruct\\np0\\n(cnu...</td>\n",
       "      <td>cnumpy.core.multiarray\\n_reconstruct\\np0\\n(cnu...</td>\n",
       "    </tr>\n",
       "    <tr>\n",
       "      <th>134717-0-0-12.wav</th>\n",
       "      <td>cnumpy.core.multiarray\\n_reconstruct\\np0\\n(cnu...</td>\n",
       "      <td>cnumpy.core.multiarray\\n_reconstruct\\np0\\n(cnu...</td>\n",
       "    </tr>\n",
       "    <tr>\n",
       "      <th>134717-0-0-13.wav</th>\n",
       "      <td>cnumpy.core.multiarray\\n_reconstruct\\np0\\n(cnu...</td>\n",
       "      <td>cnumpy.core.multiarray\\n_reconstruct\\np0\\n(cnu...</td>\n",
       "    </tr>\n",
       "  </tbody>\n",
       "</table>\n",
       "</div>"
      ],
      "text/plain": [
       "                                                           embedding  \\\n",
       "slice_file_name                                                        \n",
       "127873-0-0-0.wav   cnumpy.core.multiarray\\n_reconstruct\\np0\\n(cnu...   \n",
       "134717-0-0-0.wav   cnumpy.core.multiarray\\n_reconstruct\\np0\\n(cnu...   \n",
       "134717-0-0-1.wav   cnumpy.core.multiarray\\n_reconstruct\\np0\\n(cnu...   \n",
       "134717-0-0-12.wav  cnumpy.core.multiarray\\n_reconstruct\\np0\\n(cnu...   \n",
       "134717-0-0-13.wav  cnumpy.core.multiarray\\n_reconstruct\\np0\\n(cnu...   \n",
       "\n",
       "                                                                mfcc  \n",
       "slice_file_name                                                       \n",
       "127873-0-0-0.wav   cnumpy.core.multiarray\\n_reconstruct\\np0\\n(cnu...  \n",
       "134717-0-0-0.wav   cnumpy.core.multiarray\\n_reconstruct\\np0\\n(cnu...  \n",
       "134717-0-0-1.wav   cnumpy.core.multiarray\\n_reconstruct\\np0\\n(cnu...  \n",
       "134717-0-0-12.wav  cnumpy.core.multiarray\\n_reconstruct\\np0\\n(cnu...  \n",
       "134717-0-0-13.wav  cnumpy.core.multiarray\\n_reconstruct\\np0\\n(cnu...  "
      ]
     },
     "execution_count": 11,
     "metadata": {},
     "output_type": "execute_result"
    }
   ],
   "source": [
    "# Compile computed features so they can be added to the existing dataframe\n",
    "# use pickle to convert to string so that we can reconstitute them later\n",
    "new_features = pd.DataFrame({\n",
    "    'embedding': postprocessed_batch, \n",
    "    'mfcc': mfcc_batch,\n",
    "    # isolate the filename\n",
    "    'slice_file_name': [os.path.basename(f) for f in wav_files]\n",
    "}).set_index('slice_file_name')\n",
    "new_features.head()"
   ]
  },
  {
   "cell_type": "code",
   "execution_count": 12,
   "metadata": {},
   "outputs": [
    {
     "data": {
      "text/html": [
       "<div>\n",
       "<style scoped>\n",
       "    .dataframe tbody tr th:only-of-type {\n",
       "        vertical-align: middle;\n",
       "    }\n",
       "\n",
       "    .dataframe tbody tr th {\n",
       "        vertical-align: top;\n",
       "    }\n",
       "\n",
       "    .dataframe thead th {\n",
       "        text-align: right;\n",
       "    }\n",
       "</style>\n",
       "<table border=\"1\" class=\"dataframe\">\n",
       "  <thead>\n",
       "    <tr style=\"text-align: right;\">\n",
       "      <th></th>\n",
       "      <th>fsID</th>\n",
       "      <th>start</th>\n",
       "      <th>end</th>\n",
       "      <th>salience</th>\n",
       "      <th>fold</th>\n",
       "      <th>classID</th>\n",
       "      <th>class</th>\n",
       "      <th>embedding</th>\n",
       "      <th>mfcc</th>\n",
       "    </tr>\n",
       "    <tr>\n",
       "      <th>slice_file_name</th>\n",
       "      <th></th>\n",
       "      <th></th>\n",
       "      <th></th>\n",
       "      <th></th>\n",
       "      <th></th>\n",
       "      <th></th>\n",
       "      <th></th>\n",
       "      <th></th>\n",
       "      <th></th>\n",
       "    </tr>\n",
       "  </thead>\n",
       "  <tbody>\n",
       "    <tr>\n",
       "      <th>100852-0-0-0.wav</th>\n",
       "      <td>100852</td>\n",
       "      <td>0.0</td>\n",
       "      <td>4.0</td>\n",
       "      <td>1</td>\n",
       "      <td>5</td>\n",
       "      <td>0</td>\n",
       "      <td>air_conditioner</td>\n",
       "      <td>cnumpy.core.multiarray\\n_reconstruct\\np0\\n(cnu...</td>\n",
       "      <td>cnumpy.core.multiarray\\n_reconstruct\\np0\\n(cnu...</td>\n",
       "    </tr>\n",
       "    <tr>\n",
       "      <th>100852-0-0-1.wav</th>\n",
       "      <td>100852</td>\n",
       "      <td>0.5</td>\n",
       "      <td>4.5</td>\n",
       "      <td>1</td>\n",
       "      <td>5</td>\n",
       "      <td>0</td>\n",
       "      <td>air_conditioner</td>\n",
       "      <td>cnumpy.core.multiarray\\n_reconstruct\\np0\\n(cnu...</td>\n",
       "      <td>cnumpy.core.multiarray\\n_reconstruct\\np0\\n(cnu...</td>\n",
       "    </tr>\n",
       "    <tr>\n",
       "      <th>100852-0-0-10.wav</th>\n",
       "      <td>100852</td>\n",
       "      <td>5.0</td>\n",
       "      <td>9.0</td>\n",
       "      <td>1</td>\n",
       "      <td>5</td>\n",
       "      <td>0</td>\n",
       "      <td>air_conditioner</td>\n",
       "      <td>cnumpy.core.multiarray\\n_reconstruct\\np0\\n(cnu...</td>\n",
       "      <td>cnumpy.core.multiarray\\n_reconstruct\\np0\\n(cnu...</td>\n",
       "    </tr>\n",
       "    <tr>\n",
       "      <th>100852-0-0-11.wav</th>\n",
       "      <td>100852</td>\n",
       "      <td>5.5</td>\n",
       "      <td>9.5</td>\n",
       "      <td>1</td>\n",
       "      <td>5</td>\n",
       "      <td>0</td>\n",
       "      <td>air_conditioner</td>\n",
       "      <td>cnumpy.core.multiarray\\n_reconstruct\\np0\\n(cnu...</td>\n",
       "      <td>cnumpy.core.multiarray\\n_reconstruct\\np0\\n(cnu...</td>\n",
       "    </tr>\n",
       "    <tr>\n",
       "      <th>100852-0-0-12.wav</th>\n",
       "      <td>100852</td>\n",
       "      <td>6.0</td>\n",
       "      <td>10.0</td>\n",
       "      <td>1</td>\n",
       "      <td>5</td>\n",
       "      <td>0</td>\n",
       "      <td>air_conditioner</td>\n",
       "      <td>cnumpy.core.multiarray\\n_reconstruct\\np0\\n(cnu...</td>\n",
       "      <td>cnumpy.core.multiarray\\n_reconstruct\\np0\\n(cnu...</td>\n",
       "    </tr>\n",
       "  </tbody>\n",
       "</table>\n",
       "</div>"
      ],
      "text/plain": [
       "                     fsID  start   end  salience  fold  classID  \\\n",
       "slice_file_name                                                   \n",
       "100852-0-0-0.wav   100852    0.0   4.0         1     5        0   \n",
       "100852-0-0-1.wav   100852    0.5   4.5         1     5        0   \n",
       "100852-0-0-10.wav  100852    5.0   9.0         1     5        0   \n",
       "100852-0-0-11.wav  100852    5.5   9.5         1     5        0   \n",
       "100852-0-0-12.wav  100852    6.0  10.0         1     5        0   \n",
       "\n",
       "                             class  \\\n",
       "slice_file_name                      \n",
       "100852-0-0-0.wav   air_conditioner   \n",
       "100852-0-0-1.wav   air_conditioner   \n",
       "100852-0-0-10.wav  air_conditioner   \n",
       "100852-0-0-11.wav  air_conditioner   \n",
       "100852-0-0-12.wav  air_conditioner   \n",
       "\n",
       "                                                           embedding  \\\n",
       "slice_file_name                                                        \n",
       "100852-0-0-0.wav   cnumpy.core.multiarray\\n_reconstruct\\np0\\n(cnu...   \n",
       "100852-0-0-1.wav   cnumpy.core.multiarray\\n_reconstruct\\np0\\n(cnu...   \n",
       "100852-0-0-10.wav  cnumpy.core.multiarray\\n_reconstruct\\np0\\n(cnu...   \n",
       "100852-0-0-11.wav  cnumpy.core.multiarray\\n_reconstruct\\np0\\n(cnu...   \n",
       "100852-0-0-12.wav  cnumpy.core.multiarray\\n_reconstruct\\np0\\n(cnu...   \n",
       "\n",
       "                                                                mfcc  \n",
       "slice_file_name                                                       \n",
       "100852-0-0-0.wav   cnumpy.core.multiarray\\n_reconstruct\\np0\\n(cnu...  \n",
       "100852-0-0-1.wav   cnumpy.core.multiarray\\n_reconstruct\\np0\\n(cnu...  \n",
       "100852-0-0-10.wav  cnumpy.core.multiarray\\n_reconstruct\\np0\\n(cnu...  \n",
       "100852-0-0-11.wav  cnumpy.core.multiarray\\n_reconstruct\\np0\\n(cnu...  \n",
       "100852-0-0-12.wav  cnumpy.core.multiarray\\n_reconstruct\\np0\\n(cnu...  "
      ]
     },
     "execution_count": 12,
     "metadata": {},
     "output_type": "execute_result"
    }
   ],
   "source": [
    "# insert the new features into the dataframe\n",
    "df.update(new_features)\n",
    "df.head()"
   ]
  },
  {
   "cell_type": "code",
   "execution_count": 13,
   "metadata": {},
   "outputs": [],
   "source": [
    "# save data\n",
    "df.to_pickle(OUTPUT_FILE)"
   ]
  },
  {
   "cell_type": "code",
   "execution_count": null,
   "metadata": {},
   "outputs": [],
   "source": []
  }
 ],
 "metadata": {
  "colab": {
   "default_view": {},
   "name": "Data Processing.ipynb",
   "provenance": [],
   "version": "0.3.2",
   "views": {}
  },
  "kernelspec": {
   "display_name": "ml-sounds",
   "language": "python",
   "name": "ml-sounds"
  },
  "language_info": {
   "codemirror_mode": {
    "name": "ipython",
    "version": 2
   },
   "file_extension": ".py",
   "mimetype": "text/x-python",
   "name": "python",
   "nbconvert_exporter": "python",
   "pygments_lexer": "ipython2",
   "version": "2.7.14"
  }
 },
 "nbformat": 4,
 "nbformat_minor": 2
}
